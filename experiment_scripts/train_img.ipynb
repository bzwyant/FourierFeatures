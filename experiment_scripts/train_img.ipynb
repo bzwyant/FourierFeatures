{
 "cells": [
  {
   "cell_type": "code",
   "execution_count": null,
   "id": "b0e58322",
   "metadata": {},
   "outputs": [],
   "source": [
    "import torch\n",
    "\n",
    "from ..dataio import ImageFitting, EncodedImageFitting\n",
    "from models import Siren, HybridSiren, MLP\n",
    "from ..training import train_inr\n",
    "\n",
    "import os\n",
    "from argparse import ArgumentParser\n",
    "from tqdm.notebook import tqdm"
   ]
  },
  {
   "cell_type": "code",
   "execution_count": null,
   "id": "b97057ff",
   "metadata": {},
   "outputs": [],
   "source": [
    "parser = ArgumentParser()\n",
    "\n",
    "parser.add_argument('--input', type=str, default='data/kodak/kodim24.png')\n",
    "parser.add_argument('--lr', type=float, default=1e-4)\n",
    "parser.add_argument('--epochs', type=int, default=500)\n",
    "parser.add_argument('--epochs_til_summary', type=int, default=25)\n",
    "parser.add_argument('--batch_size', type=int, default=64*64)\n",
    "parser.add_argument('--normalization', type=bool, default=False)\n",
    "parser.add_argument('--seed', type=int, default=42)\n",
    "parser.add_argument('--model', type=str, default='siren')\n",
    "\n",
    "args = parser.parse_args(args=[])"
   ]
  },
  {
   "cell_type": "code",
   "execution_count": null,
   "id": "d7d7e621",
   "metadata": {},
   "outputs": [],
   "source": [
    "torch.manual_seed(args.seed)\n",
    "device = torch.device('cuda' if torch.cuda.is_available() else 'cpu')\n",
    "\n",
    "# Initialize the dataset\n",
    "img_fitting = ImageFitting(args.input, normalization=args.normalization)"
   ]
  },
  {
   "cell_type": "code",
   "execution_count": null,
   "id": "aebcb0c8",
   "metadata": {},
   "outputs": [],
   "source": [
    "# Initialize the model and optimizer\n",
    "if args.model == 'siren':\n",
    "    model = Siren(img_fitting.input_dim, img_fitting.output_dim, hidden_features=256, num_hidden_layers=3).to(device)\n",
    "elif args.model == 'hybrid_siren':\n",
    "    model = HybridSiren(img_fitting.input_dim, img_fitting.output_dim, hidden_features=256, num_hidden_layers=3).to(device)\n",
    "elif args.model == 'mlp':\n",
    "    model = MLP(img_fitting.input_dim, img_fitting.output_dim, hidden_features=256, num_hidden_layers=3).to(device)\n",
    "else:\n",
    "    raise ValueError(f\"Unknown model type: {args.model}\")\n",
    "\n",
    "optimizer = torch.optim.Adam(model.parameters(), lr=args.lr)"
   ]
  },
  {
   "cell_type": "code",
   "execution_count": null,
   "id": "3dd504ab",
   "metadata": {},
   "outputs": [],
   "source": [
    "results = train_inr(\n",
    "    model=model,\n",
    "    dataset=img_fitting,\n",
    "    optimizer=optimizer,\n",
    "    epochs=args.epochs,\n",
    "    batch_size=args.batch_size,\n",
    "    epochs_til_summary=args.epochs_til_summary,\n",
    "    device=device\n",
    ")"
   ]
  }
 ],
 "metadata": {
  "kernelspec": {
   "display_name": "torch_env",
   "language": "python",
   "name": "python3"
  },
  "language_info": {
   "name": "python",
   "version": "3.11.11"
  }
 },
 "nbformat": 4,
 "nbformat_minor": 5
}
