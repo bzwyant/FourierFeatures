{
 "cells": [
  {
   "cell_type": "markdown",
   "id": "248d470f",
   "metadata": {},
   "source": [
    "## Testing Fouier KAN layer"
   ]
  },
  {
   "cell_type": "code",
   "execution_count": null,
   "id": "6636a587",
   "metadata": {},
   "outputs": [],
   "source": [
    "import sys\n",
    "sys.path.append('..') \n",
    "\n",
    "import torch\n",
    "from models import FfKan, FfKanLayer"
   ]
  },
  {
   "cell_type": "code",
   "execution_count": null,
   "id": "529fb2de",
   "metadata": {},
   "outputs": [
    {
     "data": {
      "text/plain": [
       "tensor([[-2.8157, -6.3350,  4.9282, -4.2129, -6.9962],\n",
       "        [-1.1566, -6.0158,  2.0952,  3.1094,  1.7006]], grad_fn=<AddBackward0>)"
      ]
     },
     "execution_count": 2,
     "metadata": {},
     "output_type": "execute_result"
    }
   ],
   "source": [
    "x = torch.tensor([[1,1], [2,3]])\n",
    "\n",
    "ffkan_layer = FfKanLayer(input_dim=2, output_dim=5, num_frequencies=10, freq_init_scale=1.0, bias=True)\n",
    "\n",
    "ffkan_layer(x)"
   ]
  },
  {
   "cell_type": "code",
   "execution_count": null,
   "id": "f6da9bee",
   "metadata": {},
   "outputs": [
    {
     "data": {
      "text/plain": [
       "tensor([[ -1.7658,   7.7749, -18.3197,  -1.3136,   2.6534,  -5.3553,  11.7500,\n",
       "           5.7626,   8.3520,  -6.4405],\n",
       "        [ -0.8010,   2.6668,  -4.7870,  -7.7454,   0.2167,  -6.4683,  -6.6118,\n",
       "          -3.8289,  -3.9103,  -4.4683]], grad_fn=<AddBackward0>)"
      ]
     },
     "execution_count": 3,
     "metadata": {},
     "output_type": "execute_result"
    }
   ],
   "source": [
    "ff_kan = FfKan(layer_dims=[2, 5, 10], num_frequencies=10, freq_init_scale=1.0, bias=True)\n",
    "ff_kan(x)"
   ]
  }
 ],
 "metadata": {
  "kernelspec": {
   "display_name": "torch_env",
   "language": "python",
   "name": "python3"
  },
  "language_info": {
   "codemirror_mode": {
    "name": "ipython",
    "version": 3
   },
   "file_extension": ".py",
   "mimetype": "text/x-python",
   "name": "python",
   "nbconvert_exporter": "python",
   "pygments_lexer": "ipython3",
   "version": "3.11.11"
  }
 },
 "nbformat": 4,
 "nbformat_minor": 5
}
